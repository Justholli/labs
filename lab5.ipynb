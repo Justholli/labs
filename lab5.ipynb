{
  "nbformat": 4,
  "nbformat_minor": 0,
  "metadata": {
    "colab": {
      "provenance": [],
      "gpuType": "T4",
      "include_colab_link": true
    },
    "kernelspec": {
      "name": "python3",
      "display_name": "Python 3"
    },
    "language_info": {
      "name": "python"
    },
    "accelerator": "GPU"
  },
  "cells": [
    {
      "cell_type": "markdown",
      "metadata": {
        "id": "view-in-github",
        "colab_type": "text"
      },
      "source": [
        "<a href=\"https://colab.research.google.com/github/Justholli/labs/blob/main/lab5.ipynb\" target=\"_parent\"><img src=\"https://colab.research.google.com/assets/colab-badge.svg\" alt=\"Open In Colab\"/></a>"
      ]
    },
    {
      "cell_type": "code",
      "execution_count": 2,
      "metadata": {
        "id": "qssysKyUAs-e"
      },
      "outputs": [],
      "source": [
        "import torch\n",
        "import torch.nn as nn\n",
        "import torch.nn.functional as F\n",
        "import torch.optim as optim\n",
        "from torch.autograd import Variable\n",
        "\n",
        "from torchvision import datasets, transforms, models\n",
        "import torchvision.transforms as transforms\n",
        "from torch.utils.data import Dataset, random_split, DataLoader\n",
        "from torchvision.utils import save_image\n",
        "\n",
        "import numpy as np\n",
        "import pandas as pd\n",
        "import matplotlib.pyplot as plt\n",
        "import tqdm\n",
        "\n",
        "import os\n",
        "import math\n",
        "from PIL import Image\n",
        "from IPython.display import display\n",
        "import glob\n",
        "from glob import glob\n",
        "from pathlib import Path"
      ]
    },
    {
      "cell_type": "code",
      "source": [
        "device = torch.device(\"cuda\" if torch.cuda.is_available() else \"cpu\")\n",
        "print(device)"
      ],
      "metadata": {
        "colab": {
          "base_uri": "https://localhost:8080/"
        },
        "id": "VUJ3gz6IE4AU",
        "outputId": "b4a12c94-4877-41a6-cf2a-2645d92b9b09"
      },
      "execution_count": 3,
      "outputs": [
        {
          "output_type": "stream",
          "name": "stdout",
          "text": [
            "cuda\n"
          ]
        }
      ]
    },
    {
      "cell_type": "code",
      "source": [
        "from google.colab import drive\n",
        "drive.mount('/content/gdrive')"
      ],
      "metadata": {
        "id": "BPsTKTrmcxT5",
        "colab": {
          "base_uri": "https://localhost:8080/"
        },
        "outputId": "6bd44828-2b58-4297-df01-b365e19d1a68"
      },
      "execution_count": 4,
      "outputs": [
        {
          "output_type": "stream",
          "name": "stdout",
          "text": [
            "Drive already mounted at /content/gdrive; to attempt to forcibly remount, call drive.mount(\"/content/gdrive\", force_remount=True).\n"
          ]
        }
      ]
    },
    {
      "cell_type": "code",
      "source": [
        "!unzip -oq '/content/gdrive/MyDrive/Mag22/123.zip' -d '/content/sample_data/celeb_faces'"
      ],
      "metadata": {
        "id": "iCyZJJelkSr2"
      },
      "execution_count": 14,
      "outputs": []
    },
    {
      "cell_type": "markdown",
      "source": [
        "Зададим трансформер"
      ],
      "metadata": {
        "id": "ynAH8mSJGyjP"
      }
    },
    {
      "cell_type": "code",
      "source": [
        "transform_obj = transforms.Compose ([\n",
        "    transforms.Resize(64),\n",
        "    transforms.CenterCrop(64),\n",
        "    transforms.ToTensor()\n",
        "])"
      ],
      "metadata": {
        "id": "xbblts8iHc6e"
      },
      "execution_count": 6,
      "outputs": []
    },
    {
      "cell_type": "code",
      "source": [
        "dataroot = Path('/content/sample_data/celeb_faces')\n",
        "dataset = datasets.ImageFolder(root=dataroot, transform=transform_obj)\n",
        "dataloader = torch.utils.data.DataLoader(dataset, batch_size=16, shuffle=True)"
      ],
      "metadata": {
        "id": "wBrZiqskIAYV"
      },
      "execution_count": 36,
      "outputs": []
    },
    {
      "cell_type": "markdown",
      "source": [
        "# 1"
      ],
      "metadata": {
        "id": "c59-0-GlXmI2"
      }
    },
    {
      "cell_type": "markdown",
      "source": [
        "Модель с 4 сверточными слоями и 2 линейными в энкодере. latent_size во всех 6 экспериментах будет 100"
      ],
      "metadata": {
        "id": "EQNm1FsOIwFu"
      }
    },
    {
      "cell_type": "code",
      "source": [
        "class VAE(nn.Module):\n",
        "    def __init__(self, latent_size=100):\n",
        "        super(VAE, self).__init__()\n",
        "\n",
        "        self.latent_size = latent_size\n",
        "\n",
        "        self.l1 = nn.Conv2d(in_channels=3, out_channels=32, kernel_size=4, stride=2, padding=1)\n",
        "        self.l2 = nn.Conv2d(in_channels=32, out_channels=64, kernel_size=4, stride=2, padding=1)\n",
        "        self.l3 = nn.Conv2d(in_channels=64, out_channels=128, kernel_size=4, stride=2, padding=1)\n",
        "        self.l4 = nn.Conv2d(in_channels=128, out_channels=256, kernel_size=4, stride=2, padding=1)\n",
        "\n",
        "        self.l41 = nn.Linear(256*4*4, self.latent_size)\n",
        "        self.l42 = nn.Linear(256*4*4, self.latent_size)\n",
        "\n",
        "        self.f = nn.Linear(self.latent_size, 256*4*4)\n",
        "\n",
        "        self.l5 = nn.ConvTranspose2d(in_channels=256, out_channels=128, kernel_size=4, stride=2, padding=1)\n",
        "        self.l6 = nn.ConvTranspose2d(in_channels=128, out_channels=64, kernel_size=4, stride=2, padding=1)\n",
        "        self.l7 = nn.ConvTranspose2d(in_channels=64, out_channels=32, kernel_size=4, stride=2, padding=1)\n",
        "        self.l8 = nn.ConvTranspose2d(in_channels=32, out_channels=3, kernel_size=4, stride=2, padding=1)\n",
        "\n",
        "    def encoder(self, x_in):\n",
        "        h = F.relu(self.l1(x_in))\n",
        "        h = F.relu(self.l2(h))\n",
        "        h = F.relu(self.l3(h))\n",
        "        h = F.relu(self.l4(h))\n",
        "\n",
        "        h = h.view(h.size(0), -1)\n",
        "\n",
        "        return self.l41(h), self.l42(h)\n",
        "\n",
        "    def decoder(self, z):\n",
        "        z = self.f(z)\n",
        "        z = z.view(-1, 256, 4, 4)\n",
        "\n",
        "        z = F.relu(self.l5(z))\n",
        "        z = F.relu(self.l6(z))\n",
        "        z = F.relu(self.l7(z))\n",
        "        z = torch.sigmoid(self.l8(z))\n",
        "\n",
        "        return z\n",
        "\n",
        "    def sampling(self, mu, log_var):\n",
        "        std = torch.exp(0.5*log_var)\n",
        "        eps = torch.randn_like(std)\n",
        "        return torch.add(eps.mul(std), mu)\n",
        "\n",
        "    def forward(self, x_in):\n",
        "        mu, log_var = self.encoder(x_in)\n",
        "        z = self.sampling(mu, log_var)\n",
        "        return self.decoder(z), mu, log_var"
      ],
      "metadata": {
        "id": "gCyE_93iJbHK"
      },
      "execution_count": 8,
      "outputs": []
    },
    {
      "cell_type": "code",
      "source": [
        "def loss_function(recon_x, x, mu, log_var):\n",
        "    BCE = F.binary_cross_entropy(recon_x, x, reduction='sum')\n",
        "    KLD = -0.5 * torch.sum(1 + log_var - mu.pow(2) - log_var.exp())\n",
        "    return (BCE + KLD)"
      ],
      "metadata": {
        "id": "9SE__3ZvMY93"
      },
      "execution_count": 9,
      "outputs": []
    },
    {
      "cell_type": "code",
      "source": [
        "def train(vae,dataAll,epoch):\n",
        "    optimizer = optim.Adam(vae.parameters(), lr=0.0005)\n",
        "    vae.train()\n",
        "\n",
        "    train_loss = 0\n",
        "    for idx, (data, _) in enumerate(dataAll):\n",
        "      data = data.to(device)\n",
        "      optimizer.zero_grad()\n",
        "\n",
        "      r_batch, mu, log_var = vae(data)\n",
        "\n",
        "      loss = loss_function(r_batch, data, mu, log_var)\n",
        "\n",
        "      loss.backward()\n",
        "      train_loss += loss.item()\n",
        "      optimizer.step()\n",
        "    print('\\nEpoch: {} Train mean loss: {:.8f}'.format(epoch, train_loss / len(dataloader.dataset)))\n",
        "    print(\"-------------------------------------------------\")\n",
        "    return train_loss"
      ],
      "metadata": {
        "id": "_jsj-KdXLH69"
      },
      "execution_count": 10,
      "outputs": []
    },
    {
      "cell_type": "code",
      "source": [
        "latent_dims = 100\n",
        "vae1 = VAE(latent_dims).to(device)\n",
        "n_epoches = 10\n",
        "loss_hist1 = []\n",
        "for epoch in tqdm.tqdm(range(n_epoches)):\n",
        "    loss_epoch = train(vae1, dataloader, epoch)\n",
        "    loss_hist1.append(loss_epoch)"
      ],
      "metadata": {
        "id": "CGOBZnjlOZch",
        "colab": {
          "base_uri": "https://localhost:8080/"
        },
        "outputId": "172bf967-7b2e-4077-e49f-5dc76a668794"
      },
      "execution_count": 10,
      "outputs": [
        {
          "output_type": "stream",
          "name": "stderr",
          "text": [
            " 10%|█         | 1/10 [01:19<11:54, 79.37s/it]"
          ]
        },
        {
          "output_type": "stream",
          "name": "stdout",
          "text": [
            "\n",
            "Epoch: 0 Train mean loss: 6594.16603500\n",
            "-------------------------------------------------\n"
          ]
        },
        {
          "output_type": "stream",
          "name": "stderr",
          "text": [
            "\r 20%|██        | 2/10 [02:32<10:06, 75.86s/it]"
          ]
        },
        {
          "output_type": "stream",
          "name": "stdout",
          "text": [
            "\n",
            "Epoch: 1 Train mean loss: 6379.56112203\n",
            "-------------------------------------------------\n"
          ]
        },
        {
          "output_type": "stream",
          "name": "stderr",
          "text": [
            "\r 30%|███       | 3/10 [03:47<08:47, 75.37s/it]"
          ]
        },
        {
          "output_type": "stream",
          "name": "stdout",
          "text": [
            "\n",
            "Epoch: 2 Train mean loss: 6347.39294766\n",
            "-------------------------------------------------\n"
          ]
        },
        {
          "output_type": "stream",
          "name": "stderr",
          "text": [
            "\r 40%|████      | 4/10 [05:00<07:25, 74.21s/it]"
          ]
        },
        {
          "output_type": "stream",
          "name": "stdout",
          "text": [
            "\n",
            "Epoch: 3 Train mean loss: 6332.94041094\n",
            "-------------------------------------------------\n"
          ]
        },
        {
          "output_type": "stream",
          "name": "stderr",
          "text": [
            "\r 50%|█████     | 5/10 [06:13<06:09, 73.93s/it]"
          ]
        },
        {
          "output_type": "stream",
          "name": "stdout",
          "text": [
            "\n",
            "Epoch: 4 Train mean loss: 6324.10001609\n",
            "-------------------------------------------------\n"
          ]
        },
        {
          "output_type": "stream",
          "name": "stderr",
          "text": [
            "\r 60%|██████    | 6/10 [07:26<04:54, 73.51s/it]"
          ]
        },
        {
          "output_type": "stream",
          "name": "stdout",
          "text": [
            "\n",
            "Epoch: 5 Train mean loss: 6316.99638438\n",
            "-------------------------------------------------\n"
          ]
        },
        {
          "output_type": "stream",
          "name": "stderr",
          "text": [
            "\r 70%|███████   | 7/10 [08:40<03:41, 73.75s/it]"
          ]
        },
        {
          "output_type": "stream",
          "name": "stdout",
          "text": [
            "\n",
            "Epoch: 6 Train mean loss: 6312.06754609\n",
            "-------------------------------------------------\n"
          ]
        },
        {
          "output_type": "stream",
          "name": "stderr",
          "text": [
            "\r 80%|████████  | 8/10 [09:53<02:27, 73.52s/it]"
          ]
        },
        {
          "output_type": "stream",
          "name": "stdout",
          "text": [
            "\n",
            "Epoch: 7 Train mean loss: 6307.98217891\n",
            "-------------------------------------------------\n"
          ]
        },
        {
          "output_type": "stream",
          "name": "stderr",
          "text": [
            "\r 90%|█████████ | 9/10 [11:07<01:13, 73.59s/it]"
          ]
        },
        {
          "output_type": "stream",
          "name": "stdout",
          "text": [
            "\n",
            "Epoch: 8 Train mean loss: 6303.98985484\n",
            "-------------------------------------------------\n"
          ]
        },
        {
          "output_type": "stream",
          "name": "stderr",
          "text": [
            "100%|██████████| 10/10 [12:19<00:00, 73.98s/it]"
          ]
        },
        {
          "output_type": "stream",
          "name": "stdout",
          "text": [
            "\n",
            "Epoch: 9 Train mean loss: 6301.29362500\n",
            "-------------------------------------------------\n"
          ]
        },
        {
          "output_type": "stream",
          "name": "stderr",
          "text": [
            "\n"
          ]
        }
      ]
    },
    {
      "cell_type": "code",
      "source": [
        "vae1.to(device)"
      ],
      "metadata": {
        "colab": {
          "base_uri": "https://localhost:8080/"
        },
        "id": "jsjxTrDL4-gY",
        "outputId": "9c77a715-ceee-45b3-cb49-296c38f74c73"
      },
      "execution_count": 23,
      "outputs": [
        {
          "output_type": "execute_result",
          "data": {
            "text/plain": [
              "VAE(\n",
              "  (l1): Conv2d(3, 32, kernel_size=(4, 4), stride=(2, 2), padding=(1, 1))\n",
              "  (l2): Conv2d(32, 64, kernel_size=(4, 4), stride=(2, 2), padding=(1, 1))\n",
              "  (l3): Conv2d(64, 128, kernel_size=(4, 4), stride=(2, 2), padding=(1, 1))\n",
              "  (l4): Conv2d(128, 256, kernel_size=(4, 4), stride=(2, 2), padding=(1, 1))\n",
              "  (l41): Linear(in_features=4096, out_features=100, bias=True)\n",
              "  (l42): Linear(in_features=4096, out_features=100, bias=True)\n",
              "  (f): Linear(in_features=100, out_features=4096, bias=True)\n",
              "  (l5): ConvTranspose2d(256, 128, kernel_size=(4, 4), stride=(2, 2), padding=(1, 1))\n",
              "  (l6): ConvTranspose2d(128, 64, kernel_size=(4, 4), stride=(2, 2), padding=(1, 1))\n",
              "  (l7): ConvTranspose2d(64, 32, kernel_size=(4, 4), stride=(2, 2), padding=(1, 1))\n",
              "  (l8): ConvTranspose2d(32, 3, kernel_size=(4, 4), stride=(2, 2), padding=(1, 1))\n",
              ")"
            ]
          },
          "metadata": {},
          "execution_count": 23
        }
      ]
    },
    {
      "cell_type": "markdown",
      "source": [
        "Сохраним веса в отдельный файл. Самый лучший результат по лоссу распечатаем"
      ],
      "metadata": {
        "id": "x9TVCI7FJBd9"
      }
    },
    {
      "cell_type": "code",
      "source": [
        "weights1 = vae1.state_dict()"
      ],
      "metadata": {
        "id": "dHZVPTVYP1Cx"
      },
      "execution_count": 24,
      "outputs": []
    },
    {
      "cell_type": "code",
      "source": [
        "file_path = '/content/gdrive/MyDrive/weights1.txt'\n",
        "\n",
        "with open(file_path, 'w') as f:\n",
        "    for key, value in weights1.items():\n",
        "        f.write(f'{key}: {value}\\n')"
      ],
      "metadata": {
        "id": "AFyyRtw1QJIo"
      },
      "execution_count": 25,
      "outputs": []
    },
    {
      "cell_type": "code",
      "source": [
        "plt.plot(loss_hist1)\n",
        "plt.xlabel(\"Epoch\")\n",
        "plt.ylabel(\"Loss\")\n",
        "plt.show()"
      ],
      "metadata": {
        "id": "W-Y6qGiCQ4u_",
        "colab": {
          "base_uri": "https://localhost:8080/",
          "height": 465
        },
        "outputId": "4cc7bef5-70a3-4769-dc76-75be8a14fa1f"
      },
      "execution_count": 26,
      "outputs": [
        {
          "output_type": "display_data",
          "data": {
            "text/plain": [
              "<Figure size 640x480 with 1 Axes>"
            ],
            "image/png": "[encoded data removed]"
          },
          "metadata": {}
        }
      ]
    },
    {
      "cell_type": "code",
      "source": [
        "def generateImg(vae,latentN,counter):\n",
        "  z = (torch.rand(latentN)*2).to(device)\n",
        "  sample = vae.decoder(z).to(device)\n",
        "  save_image(sample.view(3, 64, 64), '/content/gdrive/MyDrive/' + 'sample_' + counter + '.jpg')"
      ],
      "metadata": {
        "id": "hWGIOgkaTv5q"
      },
      "execution_count": 30,
      "outputs": []
    },
    {
      "cell_type": "code",
      "source": [
        "generateImg(vae1,100,\"1_1\")\n",
        "generateImg(vae1,100,\"1_2\")"
      ],
      "metadata": {
        "id": "c5IAP7A4UKpq"
      },
      "execution_count": 37,
      "outputs": []
    },
    {
      "cell_type": "code",
      "source": [
        "img_1_1 = Image.open('/content/gdrive/MyDrive/sample_1_1.jpg')\n",
        "img_1_1"
      ],
      "metadata": {
        "id": "bSwnyttmUaur",
        "colab": {
          "base_uri": "https://localhost:8080/",
          "height": 81
        },
        "outputId": "6f91fac8-8d45-4888-914d-5448330c50ac"
      },
      "execution_count": 38,
      "outputs": [
        {
          "output_type": "execute_result",
          "data": {
            "text/plain": [
              "<PIL.JpegImagePlugin.JpegImageFile image mode=RGB size=64x64>"
            ],
            "image/png": "[encoded data removed]"
          },
          "metadata": {},
          "execution_count": 38
        }
      ]
    },
    {
      "cell_type": "code",
      "source": [
        "img_1_2 = Image.open('/content/gdrive/MyDrive/sample_1_2.jpg')\n",
        "img_1_2"
      ],
      "metadata": {
        "id": "LcU3Mv3VUcxC",
        "colab": {
          "base_uri": "https://localhost:8080/",
          "height": 81
        },
        "outputId": "fb93492b-8d6f-408f-d632-3fadf904f1a9"
      },
      "execution_count": 39,
      "outputs": [
        {
          "output_type": "execute_result",
          "data": {
            "text/plain": [
              "<PIL.JpegImagePlugin.JpegImageFile image mode=RGB size=64x64>"
            ],
            "image/png": "[encoded data removed]"
          },
          "metadata": {},
          "execution_count": 39
        }
      ]
    },
    {
      "cell_type": "markdown",
      "source": [
        "Видно что лосс уменьшается равномерно, без скачков, к концу обучения. Картинки тоже можно увидеть выше."
      ],
      "metadata": {
        "id": "gtiR_RqyJM3t"
      }
    },
    {
      "cell_type": "markdown",
      "source": [
        "# 2"
      ],
      "metadata": {
        "id": "tGVlLUJBXipm"
      }
    },
    {
      "cell_type": "markdown",
      "source": [
        "Постараемся уменьшить лосс. Добавим два новых полносвязных слоя и заменил функцию активации relu на elu. Это должно повлиять"
      ],
      "metadata": {
        "id": "uo-_8VDwZYhx"
      }
    },
    {
      "cell_type": "code",
      "source": [
        "class VAE(nn.Module):\n",
        "    def __init__(self, latent_size=100):\n",
        "        super(VAE, self).__init__()\n",
        "\n",
        "        self.latent_size = latent_size\n",
        "\n",
        "        self.l1 = nn.Conv2d(in_channels=3, out_channels=32, kernel_size=4, stride=2, padding=1)\n",
        "        self.l2 = nn.Conv2d(in_channels=32, out_channels=64, kernel_size=4, stride=2, padding=1)\n",
        "        self.l3 = nn.Conv2d(in_channels=64, out_channels=128, kernel_size=4, stride=2, padding=1)\n",
        "        self.l4 = nn.Conv2d(in_channels=128, out_channels=256, kernel_size=4, stride=2, padding=1)\n",
        "\n",
        "        self.fc1 = nn.Linear(256*4*4, 512)\n",
        "        self.fc2 = nn.Linear(512, 256)\n",
        "\n",
        "        self.l41 = nn.Linear(256, self.latent_size)\n",
        "        self.l42 = nn.Linear(256, self.latent_size)\n",
        "\n",
        "        self.f = nn.Linear(self.latent_size, 256*4*4)\n",
        "\n",
        "        self.l5 = nn.ConvTranspose2d(in_channels=256, out_channels=128, kernel_size=4, stride=2, padding=1)\n",
        "        self.l6 = nn.ConvTranspose2d(in_channels=128, out_channels=64, kernel_size=4, stride=2, padding=1)\n",
        "        self.l7 = nn.ConvTranspose2d(in_channels=64, out_channels=32, kernel_size=4, stride=2, padding=1)\n",
        "        self.l8 = nn.ConvTranspose2d(in_channels=32, out_channels=3, kernel_size=4, stride=2, padding=1)\n",
        "\n",
        "    def encoder(self, x_in):\n",
        "        h = F.elu(self.l1(x_in))\n",
        "        h = F.elu(self.l2(h))\n",
        "        h = F.elu(self.l3(h))\n",
        "        h = F.elu(self.l4(h))\n",
        "\n",
        "        h = h.view(h.size(0), -1)\n",
        "\n",
        "        h = F.relu(self.fc1(h))\n",
        "        h = F.relu(self.fc2(h))\n",
        "\n",
        "        return self.l41(h), self.l42(h)\n",
        "\n",
        "    def decoder(self, z):\n",
        "        z = self.f(z)\n",
        "        z = z.view(-1, 256, 4, 4)\n",
        "\n",
        "        z = F.elu(self.l5(z))\n",
        "        z = F.elu(self.l6(z))\n",
        "        z = F.elu(self.l7(z))\n",
        "        z = torch.sigmoid(self.l8(z))\n",
        "\n",
        "        return z\n",
        "\n",
        "    def sampling(self, mu, log_var):\n",
        "        std = torch.exp(0.5*log_var)\n",
        "        eps = torch.randn_like(std)\n",
        "        return torch.add(eps.mul(std), mu)\n",
        "\n",
        "    def forward(self, x_in):\n",
        "        mu, log_var = self.encoder(x_in)\n",
        "        z = self.sampling(mu, log_var)\n",
        "        return self.decoder(z), mu, log_var"
      ],
      "metadata": {
        "id": "9XlaCuiAXrFe"
      },
      "execution_count": 11,
      "outputs": []
    },
    {
      "cell_type": "code",
      "source": [
        "latent_dims = 100\n",
        "vae2 = VAE(latent_dims).to(device)\n",
        "n_epoches = 10\n",
        "loss_hist2 = []\n",
        "for epoch in tqdm.tqdm(range(n_epoches)):\n",
        "    loss_epoch = train(vae2, dataloader, epoch)\n",
        "    loss_hist2.append(loss_epoch)"
      ],
      "metadata": {
        "id": "woDz7vADZkqp",
        "colab": {
          "base_uri": "https://localhost:8080/"
        },
        "outputId": "5b54d7d2-dbee-444b-c98a-edbedbe986e9"
      },
      "execution_count": 41,
      "outputs": [
        {
          "output_type": "stream",
          "name": "stderr",
          "text": [
            " 10%|█         | 1/10 [01:17<11:33, 77.04s/it]"
          ]
        },
        {
          "output_type": "stream",
          "name": "stdout",
          "text": [
            "\n",
            "Epoch: 0 Train mean loss: 6641.97304578\n",
            "-------------------------------------------------\n"
          ]
        },
        {
          "output_type": "stream",
          "name": "stderr",
          "text": [
            "\r 20%|██        | 2/10 [02:30<09:58, 74.77s/it]"
          ]
        },
        {
          "output_type": "stream",
          "name": "stdout",
          "text": [
            "\n",
            "Epoch: 1 Train mean loss: 6454.07985187\n",
            "-------------------------------------------------\n"
          ]
        },
        {
          "output_type": "stream",
          "name": "stderr",
          "text": [
            "\r 30%|███       | 3/10 [03:45<08:45, 75.01s/it]"
          ]
        },
        {
          "output_type": "stream",
          "name": "stdout",
          "text": [
            "\n",
            "Epoch: 2 Train mean loss: 6413.30696969\n",
            "-------------------------------------------------\n"
          ]
        },
        {
          "output_type": "stream",
          "name": "stderr",
          "text": [
            "\r 40%|████      | 4/10 [04:59<07:26, 74.42s/it]"
          ]
        },
        {
          "output_type": "stream",
          "name": "stdout",
          "text": [
            "\n",
            "Epoch: 3 Train mean loss: 6392.65467531\n",
            "-------------------------------------------------\n"
          ]
        },
        {
          "output_type": "stream",
          "name": "stderr",
          "text": [
            "\r 50%|█████     | 5/10 [06:13<06:11, 74.30s/it]"
          ]
        },
        {
          "output_type": "stream",
          "name": "stdout",
          "text": [
            "\n",
            "Epoch: 4 Train mean loss: 6380.74196453\n",
            "-------------------------------------------------\n"
          ]
        },
        {
          "output_type": "stream",
          "name": "stderr",
          "text": [
            "\r 60%|██████    | 6/10 [07:26<04:55, 73.87s/it]"
          ]
        },
        {
          "output_type": "stream",
          "name": "stdout",
          "text": [
            "\n",
            "Epoch: 5 Train mean loss: 6372.90337859\n",
            "-------------------------------------------------\n"
          ]
        },
        {
          "output_type": "stream",
          "name": "stderr",
          "text": [
            "\r 70%|███████   | 7/10 [08:41<03:42, 74.28s/it]"
          ]
        },
        {
          "output_type": "stream",
          "name": "stdout",
          "text": [
            "\n",
            "Epoch: 6 Train mean loss: 6366.30725656\n",
            "-------------------------------------------------\n"
          ]
        },
        {
          "output_type": "stream",
          "name": "stderr",
          "text": [
            "\r 80%|████████  | 8/10 [09:55<02:28, 74.13s/it]"
          ]
        },
        {
          "output_type": "stream",
          "name": "stdout",
          "text": [
            "\n",
            "Epoch: 7 Train mean loss: 6361.39201906\n",
            "-------------------------------------------------\n"
          ]
        },
        {
          "output_type": "stream",
          "name": "stderr",
          "text": [
            "\r 90%|█████████ | 9/10 [11:08<01:13, 73.97s/it]"
          ]
        },
        {
          "output_type": "stream",
          "name": "stdout",
          "text": [
            "\n",
            "Epoch: 8 Train mean loss: 6357.83697359\n",
            "-------------------------------------------------\n"
          ]
        },
        {
          "output_type": "stream",
          "name": "stderr",
          "text": [
            "100%|██████████| 10/10 [12:22<00:00, 74.28s/it]"
          ]
        },
        {
          "output_type": "stream",
          "name": "stdout",
          "text": [
            "\n",
            "Epoch: 9 Train mean loss: 6354.54891156\n",
            "-------------------------------------------------\n"
          ]
        },
        {
          "output_type": "stream",
          "name": "stderr",
          "text": [
            "\n"
          ]
        }
      ]
    },
    {
      "cell_type": "code",
      "source": [
        "vae2.to(device)"
      ],
      "metadata": {
        "colab": {
          "base_uri": "https://localhost:8080/"
        },
        "id": "ovm_c487DpKl",
        "outputId": "2bd28526-85b8-4f36-acab-1f48e183a2db"
      },
      "execution_count": 42,
      "outputs": [
        {
          "output_type": "execute_result",
          "data": {
            "text/plain": [
              "VAE(\n",
              "  (l1): Conv2d(3, 32, kernel_size=(4, 4), stride=(2, 2), padding=(1, 1))\n",
              "  (l2): Conv2d(32, 64, kernel_size=(4, 4), stride=(2, 2), padding=(1, 1))\n",
              "  (l3): Conv2d(64, 128, kernel_size=(4, 4), stride=(2, 2), padding=(1, 1))\n",
              "  (l4): Conv2d(128, 256, kernel_size=(4, 4), stride=(2, 2), padding=(1, 1))\n",
              "  (fc1): Linear(in_features=4096, out_features=512, bias=True)\n",
              "  (fc2): Linear(in_features=512, out_features=256, bias=True)\n",
              "  (l41): Linear(in_features=256, out_features=100, bias=True)\n",
              "  (l42): Linear(in_features=256, out_features=100, bias=True)\n",
              "  (f): Linear(in_features=100, out_features=4096, bias=True)\n",
              "  (l5): ConvTranspose2d(256, 128, kernel_size=(4, 4), stride=(2, 2), padding=(1, 1))\n",
              "  (l6): ConvTranspose2d(128, 64, kernel_size=(4, 4), stride=(2, 2), padding=(1, 1))\n",
              "  (l7): ConvTranspose2d(64, 32, kernel_size=(4, 4), stride=(2, 2), padding=(1, 1))\n",
              "  (l8): ConvTranspose2d(32, 3, kernel_size=(4, 4), stride=(2, 2), padding=(1, 1))\n",
              ")"
            ]
          },
          "metadata": {},
          "execution_count": 42
        }
      ]
    },
    {
      "cell_type": "code",
      "source": [
        "weights2 = vae2.state_dict()"
      ],
      "metadata": {
        "id": "SgwK5l9nZrHQ"
      },
      "execution_count": 43,
      "outputs": []
    },
    {
      "cell_type": "code",
      "source": [
        "file_path = '/content/gdrive/MyDrive/weights2.txt'\n",
        "\n",
        "with open(file_path, 'w') as f:\n",
        "    for key, value in weights2.items():\n",
        "        f.write(f'{key}: {value}\\n')"
      ],
      "metadata": {
        "id": "tqeblxhCZtAj"
      },
      "execution_count": 52,
      "outputs": []
    },
    {
      "cell_type": "code",
      "source": [
        "plt.plot(loss_hist2)\n",
        "plt.xlabel(\"Epoch\")\n",
        "plt.ylabel(\"Loss\")\n",
        "plt.show()"
      ],
      "metadata": {
        "id": "VcQ6W7emZ2Ji",
        "colab": {
          "base_uri": "https://localhost:8080/",
          "height": 465
        },
        "outputId": "24d69d12-7f8b-4a99-b1ee-c5a11cf78a90"
      },
      "execution_count": 53,
      "outputs": [
        {
          "output_type": "display_data",
          "data": {
            "text/plain": [
              "<Figure size 640x480 with 1 Axes>"
            ],
            "image/png": "[encoded data removed]"
          },
          "metadata": {}
        }
      ]
    },
    {
      "cell_type": "markdown",
      "source": [
        "Как видно по цифрам, лосс не уменьшился, а даже наоборот стал похудше. График примерно похож"
      ],
      "metadata": {
        "id": "AtrofM8bJjfH"
      }
    },
    {
      "cell_type": "code",
      "source": [
        "generateImg(vae2,100,\"2_1\")\n",
        "generateImg(vae2,100,\"2_2\")"
      ],
      "metadata": {
        "id": "QywK7-KsZ4Fw"
      },
      "execution_count": 54,
      "outputs": []
    },
    {
      "cell_type": "code",
      "source": [
        "img_2_1 = Image.open('/content/gdrive/MyDrive/sample_2_1.jpg')\n",
        "img_2_1"
      ],
      "metadata": {
        "id": "pi4zoBjPZ5zQ",
        "colab": {
          "base_uri": "https://localhost:8080/",
          "height": 81
        },
        "outputId": "9d65067c-83d5-4c58-bf40-5bd848e87d89"
      },
      "execution_count": 55,
      "outputs": [
        {
          "output_type": "execute_result",
          "data": {
            "text/plain": [
              "<PIL.JpegImagePlugin.JpegImageFile image mode=RGB size=64x64>"
            ],
            "image/png": "[encoded data removed]"
          },
          "metadata": {},
          "execution_count": 55
        }
      ]
    },
    {
      "cell_type": "code",
      "source": [
        "img_2_2 = Image.open('/content/gdrive/MyDrive/sample_2_2.jpg')\n",
        "img_2_2"
      ],
      "metadata": {
        "id": "e6yck7yEZ6MQ",
        "colab": {
          "base_uri": "https://localhost:8080/",
          "height": 81
        },
        "outputId": "9daa4746-d07b-47dc-c59e-843ae8744b23"
      },
      "execution_count": 56,
      "outputs": [
        {
          "output_type": "execute_result",
          "data": {
            "text/plain": [
              "<PIL.JpegImagePlugin.JpegImageFile image mode=RGB size=64x64>"
            ],
            "image/png": "[encoded data removed]"
          },
          "metadata": {},
          "execution_count": 56
        }
      ]
    },
    {
      "cell_type": "markdown",
      "source": [
        "Кажется что картинки стали похуже"
      ],
      "metadata": {
        "id": "5E6DL2IIJtwW"
      }
    },
    {
      "cell_type": "markdown",
      "source": [
        "# 3"
      ],
      "metadata": {
        "id": "Bnw9evXRZ-IB"
      }
    },
    {
      "cell_type": "markdown",
      "source": [
        "Добавим пакетную нормализацию для нормализования входных каждого слоя"
      ],
      "metadata": {
        "id": "qHj4Mf8LKqQ1"
      }
    },
    {
      "cell_type": "code",
      "source": [
        "class VAE(nn.Module):\n",
        "    def __init__(self, latent_size=100):\n",
        "        super(VAE, self).__init__()\n",
        "\n",
        "        self.latent_size = latent_size\n",
        "\n",
        "        self.l1 = nn.Conv2d(in_channels=3, out_channels=32, kernel_size=4, stride=2, padding=1)\n",
        "        self.bn1 = nn.BatchNorm2d(32)\n",
        "        self.l2 = nn.Conv2d(in_channels=32, out_channels=64, kernel_size=4, stride=2, padding=1)\n",
        "        self.bn2 = nn.BatchNorm2d(64)\n",
        "        self.l3 = nn.Conv2d(in_channels=64, out_channels=128, kernel_size=4, stride=2, padding=1)\n",
        "        self.bn3 = nn.BatchNorm2d(128)\n",
        "        self.l4 = nn.Conv2d(in_channels=128, out_channels=256, kernel_size=4, stride=2, padding=1)\n",
        "        self.bn4 = nn.BatchNorm2d(256)\n",
        "\n",
        "        self.fc1 = nn.Linear(256*4*4, 512)\n",
        "        self.fc2 = nn.Linear(512, 256)\n",
        "\n",
        "        self.l41 = nn.Linear(256, self.latent_size)\n",
        "        self.l42 = nn.Linear(256, self.latent_size)\n",
        "\n",
        "        self.f = nn.Linear(self.latent_size, 256*4*4)\n",
        "\n",
        "        self.l5 = nn.ConvTranspose2d(in_channels=256, out_channels=128, kernel_size=4, stride=2, padding=1)\n",
        "        self.bn5 = nn.BatchNorm2d(128)\n",
        "        self.l6 = nn.ConvTranspose2d(in_channels=128, out_channels=64, kernel_size=4, stride=2, padding=1)\n",
        "        self.bn6 = nn.BatchNorm2d(64)\n",
        "        self.l7 = nn.ConvTranspose2d(in_channels=64, out_channels=32, kernel_size=4, stride=2, padding=1)\n",
        "        self.bn7 = nn.BatchNorm2d(32)\n",
        "        self.l8 = nn.ConvTranspose2d(in_channels=32, out_channels=3, kernel_size=4, stride=2, padding=1)\n",
        "\n",
        "    def encoder(self, x_in):\n",
        "        h = F.elu(self.l1(x_in))\n",
        "        h = F.elu(self.l2(h))\n",
        "        h = F.elu(self.l3(h))\n",
        "        h = F.elu(self.l4(h))\n",
        "\n",
        "        h = h.view(h.size(0), -1)\n",
        "\n",
        "        h = F.relu(self.fc1(h))\n",
        "        h = F.relu(self.fc2(h))\n",
        "\n",
        "        return self.l41(h), self.l42(h)\n",
        "\n",
        "    def decoder(self, z):\n",
        "        z = self.f(z)\n",
        "        z = z.view(-1, 256, 4, 4)\n",
        "\n",
        "        z = F.elu(self.l5(z))\n",
        "        z = F.elu(self.l6(z))\n",
        "        z = F.elu(self.l7(z))\n",
        "        z = torch.sigmoid(self.l8(z))\n",
        "\n",
        "        return z\n",
        "\n",
        "    def sampling(self, mu, log_var):\n",
        "        std = torch.exp(0.5*log_var)\n",
        "        eps = torch.randn_like(std)\n",
        "        return torch.add(eps.mul(std), mu)\n",
        "\n",
        "    def forward(self, x_in):\n",
        "        mu, log_var = self.encoder(x_in)\n",
        "        z = self.sampling(mu, log_var)\n",
        "        return self.decoder(z), mu, log_var"
      ],
      "metadata": {
        "id": "8-t7pOHiafJK"
      },
      "execution_count": 57,
      "outputs": []
    },
    {
      "cell_type": "code",
      "source": [
        "latent_dims = 100\n",
        "vae3 = VAE(latent_dims).to(device)\n",
        "n_epoches = 10\n",
        "loss_hist3 = []\n",
        "for epoch in tqdm.tqdm(range(n_epoches)):\n",
        "    loss_epoch = train(vae3, dataloader, epoch)\n",
        "    loss_hist3.append(loss_epoch)"
      ],
      "metadata": {
        "id": "94fV9Mo1bCya",
        "colab": {
          "base_uri": "https://localhost:8080/"
        },
        "outputId": "baade96a-adec-4e2a-a92e-8a47e031fa0a"
      },
      "execution_count": 58,
      "outputs": [
        {
          "output_type": "stream",
          "name": "stderr",
          "text": [
            " 10%|█         | 1/10 [01:23<12:31, 83.48s/it]"
          ]
        },
        {
          "output_type": "stream",
          "name": "stdout",
          "text": [
            "\n",
            "Epoch: 0 Train mean loss: 6640.99492672\n",
            "-------------------------------------------------\n"
          ]
        },
        {
          "output_type": "stream",
          "name": "stderr",
          "text": [
            "\r 20%|██        | 2/10 [02:38<10:29, 78.68s/it]"
          ]
        },
        {
          "output_type": "stream",
          "name": "stdout",
          "text": [
            "\n",
            "Epoch: 1 Train mean loss: 6449.53522953\n",
            "-------------------------------------------------\n"
          ]
        },
        {
          "output_type": "stream",
          "name": "stderr",
          "text": [
            "\r 30%|███       | 3/10 [03:54<09:01, 77.33s/it]"
          ]
        },
        {
          "output_type": "stream",
          "name": "stdout",
          "text": [
            "\n",
            "Epoch: 2 Train mean loss: 6410.35887969\n",
            "-------------------------------------------------\n"
          ]
        },
        {
          "output_type": "stream",
          "name": "stderr",
          "text": [
            "\r 40%|████      | 4/10 [05:09<07:37, 76.28s/it]"
          ]
        },
        {
          "output_type": "stream",
          "name": "stdout",
          "text": [
            "\n",
            "Epoch: 3 Train mean loss: 6392.34323172\n",
            "-------------------------------------------------\n"
          ]
        },
        {
          "output_type": "stream",
          "name": "stderr",
          "text": [
            "\r 50%|█████     | 5/10 [06:23<06:17, 75.49s/it]"
          ]
        },
        {
          "output_type": "stream",
          "name": "stdout",
          "text": [
            "\n",
            "Epoch: 4 Train mean loss: 6380.79645969\n",
            "-------------------------------------------------\n"
          ]
        },
        {
          "output_type": "stream",
          "name": "stderr",
          "text": [
            "\r 60%|██████    | 6/10 [07:38<05:02, 75.53s/it]"
          ]
        },
        {
          "output_type": "stream",
          "name": "stdout",
          "text": [
            "\n",
            "Epoch: 5 Train mean loss: 6372.77863656\n",
            "-------------------------------------------------\n"
          ]
        },
        {
          "output_type": "stream",
          "name": "stderr",
          "text": [
            "\r 70%|███████   | 7/10 [08:53<03:45, 75.22s/it]"
          ]
        },
        {
          "output_type": "stream",
          "name": "stdout",
          "text": [
            "\n",
            "Epoch: 6 Train mean loss: 6367.00826094\n",
            "-------------------------------------------------\n"
          ]
        },
        {
          "output_type": "stream",
          "name": "stderr",
          "text": [
            "\r 80%|████████  | 8/10 [10:07<02:29, 74.96s/it]"
          ]
        },
        {
          "output_type": "stream",
          "name": "stdout",
          "text": [
            "\n",
            "Epoch: 7 Train mean loss: 6362.27459125\n",
            "-------------------------------------------------\n"
          ]
        },
        {
          "output_type": "stream",
          "name": "stderr",
          "text": [
            "\r 90%|█████████ | 9/10 [11:22<01:14, 74.91s/it]"
          ]
        },
        {
          "output_type": "stream",
          "name": "stdout",
          "text": [
            "\n",
            "Epoch: 8 Train mean loss: 6357.47348469\n",
            "-------------------------------------------------\n"
          ]
        },
        {
          "output_type": "stream",
          "name": "stderr",
          "text": [
            "100%|██████████| 10/10 [12:37<00:00, 75.71s/it]"
          ]
        },
        {
          "output_type": "stream",
          "name": "stdout",
          "text": [
            "\n",
            "Epoch: 9 Train mean loss: 6353.09462375\n",
            "-------------------------------------------------\n"
          ]
        },
        {
          "output_type": "stream",
          "name": "stderr",
          "text": [
            "\n"
          ]
        }
      ]
    },
    {
      "cell_type": "code",
      "source": [
        "vae3.to(device)"
      ],
      "metadata": {
        "colab": {
          "base_uri": "https://localhost:8080/"
        },
        "id": "6E-TYFkoDsN7",
        "outputId": "8e1cb55b-cd1e-495d-d6a4-2be08aac4e72"
      },
      "execution_count": 59,
      "outputs": [
        {
          "output_type": "execute_result",
          "data": {
            "text/plain": [
              "VAE(\n",
              "  (l1): Conv2d(3, 32, kernel_size=(4, 4), stride=(2, 2), padding=(1, 1))\n",
              "  (bn1): BatchNorm2d(32, eps=1e-05, momentum=0.1, affine=True, track_running_stats=True)\n",
              "  (l2): Conv2d(32, 64, kernel_size=(4, 4), stride=(2, 2), padding=(1, 1))\n",
              "  (bn2): BatchNorm2d(64, eps=1e-05, momentum=0.1, affine=True, track_running_stats=True)\n",
              "  (l3): Conv2d(64, 128, kernel_size=(4, 4), stride=(2, 2), padding=(1, 1))\n",
              "  (bn3): BatchNorm2d(128, eps=1e-05, momentum=0.1, affine=True, track_running_stats=True)\n",
              "  (l4): Conv2d(128, 256, kernel_size=(4, 4), stride=(2, 2), padding=(1, 1))\n",
              "  (bn4): BatchNorm2d(256, eps=1e-05, momentum=0.1, affine=True, track_running_stats=True)\n",
              "  (fc1): Linear(in_features=4096, out_features=512, bias=True)\n",
              "  (fc2): Linear(in_features=512, out_features=256, bias=True)\n",
              "  (l41): Linear(in_features=256, out_features=100, bias=True)\n",
              "  (l42): Linear(in_features=256, out_features=100, bias=True)\n",
              "  (f): Linear(in_features=100, out_features=4096, bias=True)\n",
              "  (l5): ConvTranspose2d(256, 128, kernel_size=(4, 4), stride=(2, 2), padding=(1, 1))\n",
              "  (bn5): BatchNorm2d(128, eps=1e-05, momentum=0.1, affine=True, track_running_stats=True)\n",
              "  (l6): ConvTranspose2d(128, 64, kernel_size=(4, 4), stride=(2, 2), padding=(1, 1))\n",
              "  (bn6): BatchNorm2d(64, eps=1e-05, momentum=0.1, affine=True, track_running_stats=True)\n",
              "  (l7): ConvTranspose2d(64, 32, kernel_size=(4, 4), stride=(2, 2), padding=(1, 1))\n",
              "  (bn7): BatchNorm2d(32, eps=1e-05, momentum=0.1, affine=True, track_running_stats=True)\n",
              "  (l8): ConvTranspose2d(32, 3, kernel_size=(4, 4), stride=(2, 2), padding=(1, 1))\n",
              ")"
            ]
          },
          "metadata": {},
          "execution_count": 59
        }
      ]
    },
    {
      "cell_type": "code",
      "source": [
        "weights3 = vae3.state_dict()"
      ],
      "metadata": {
        "id": "GKUFROtQbVbs"
      },
      "execution_count": 60,
      "outputs": []
    },
    {
      "cell_type": "code",
      "source": [
        "file_path = '/content/gdrive/MyDrive/weights3.txt'\n",
        "\n",
        "with open(file_path, 'w') as f:\n",
        "    for key, value in weights3.items():\n",
        "        f.write(f'{key}: {value}\\n')"
      ],
      "metadata": {
        "id": "TX3nH6THbZT7"
      },
      "execution_count": 62,
      "outputs": []
    },
    {
      "cell_type": "code",
      "source": [
        "plt.plot(loss_hist3)\n",
        "plt.xlabel(\"Epoch\")\n",
        "plt.ylabel(\"Loss\")\n",
        "plt.show()"
      ],
      "metadata": {
        "id": "AxwciOaUbc-z",
        "colab": {
          "base_uri": "https://localhost:8080/",
          "height": 465
        },
        "outputId": "d4c55aea-b624-45fc-da7d-4cf8729cbc95"
      },
      "execution_count": 61,
      "outputs": [
        {
          "output_type": "display_data",
          "data": {
            "text/plain": [
              "<Figure size 640x480 with 1 Axes>"
            ],
            "image/png": "[encoded data removed]"
          },
          "metadata": {}
        }
      ]
    },
    {
      "cell_type": "code",
      "source": [
        "generateImg(vae3,100,\"3_1\")\n",
        "generateImg(vae3,100,\"3_2\")"
      ],
      "metadata": {
        "id": "-fb00KVQbfIx"
      },
      "execution_count": 63,
      "outputs": []
    },
    {
      "cell_type": "code",
      "source": [
        "img_3_1 = Image.open('/content/gdrive/MyDrive/sample_3_1.jpg')\n",
        "img_3_1"
      ],
      "metadata": {
        "id": "hDgY9DXTbjEq",
        "colab": {
          "base_uri": "https://localhost:8080/",
          "height": 81
        },
        "outputId": "3875691a-3a9e-4b5b-a6a4-4da744ec1113"
      },
      "execution_count": 64,
      "outputs": [
        {
          "output_type": "execute_result",
          "data": {
            "text/plain": [
              "<PIL.JpegImagePlugin.JpegImageFile image mode=RGB size=64x64>"
            ],
            "image/png": "[encoded data removed]"
          },
          "metadata": {},
          "execution_count": 64
        }
      ]
    },
    {
      "cell_type": "code",
      "source": [
        "img_3_2 = Image.open('/content/gdrive/MyDrive/sample_3_2.jpg')\n",
        "img_3_2"
      ],
      "metadata": {
        "id": "S_aLxvqXbjZp",
        "colab": {
          "base_uri": "https://localhost:8080/",
          "height": 81
        },
        "outputId": "b1beaa49-39cd-4a58-b4b5-1c82e1d51304"
      },
      "execution_count": 65,
      "outputs": [
        {
          "output_type": "execute_result",
          "data": {
            "text/plain": [
              "<PIL.JpegImagePlugin.JpegImageFile image mode=RGB size=64x64>"
            ],
            "image/png": "[encoded data removed]"
          },
          "metadata": {},
          "execution_count": 65
        }
      ]
    },
    {
      "cell_type": "markdown",
      "source": [
        "Тоже не повлияло на лосс"
      ],
      "metadata": {
        "id": "dhapZTKwK62N"
      }
    },
    {
      "cell_type": "markdown",
      "source": [
        "# 4"
      ],
      "metadata": {
        "id": "Q4VsIuTdCtal"
      }
    },
    {
      "cell_type": "code",
      "source": [
        "import tqdm\n",
        "from torch.cuda.amp import GradScaler, autocast\n",
        "from torch.optim.lr_scheduler import CyclicLR\n",
        "\n",
        "# Модель VAE\n",
        "class VAE(nn.Module):\n",
        "    def __init__(self, latent_size=100):\n",
        "        super(VAE, self).__init__()\n",
        "\n",
        "        self.latent_size = latent_size\n",
        "\n",
        "        # Encoder\n",
        "        self.enc_conv1 = nn.Conv2d(in_channels=3, out_channels=32, kernel_size=4, stride=2, padding=1)\n",
        "        self.enc_bn1 = nn.BatchNorm2d(32)\n",
        "        self.enc_conv2 = nn.Conv2d(in_channels=32, out_channels=64, kernel_size=4, stride=2, padding=1)\n",
        "        self.enc_bn2 = nn.BatchNorm2d(64)\n",
        "        self.enc_conv3 = nn.Conv2d(in_channels=64, out_channels=128, kernel_size=4, stride=2, padding=1)\n",
        "        self.enc_bn3 = nn.BatchNorm2d(128)\n",
        "        self.enc_conv4 = nn.Conv2d(in_channels=128, out_channels=256, kernel_size=4, stride=2, padding=1)\n",
        "        self.enc_bn4 = nn.BatchNorm2d(256)\n",
        "        self.enc_conv5 = nn.Conv2d(in_channels=256, out_channels=512, kernel_size=4, stride=2, padding=1)\n",
        "        self.enc_bn5 = nn.BatchNorm2d(512)\n",
        "\n",
        "        self.fc_mu = nn.Linear(512*2*2, self.latent_size)\n",
        "        self.fc_log_var = nn.Linear(512*2*2, self.latent_size)\n",
        "\n",
        "        # Decoder\n",
        "        self.fc = nn.Linear(self.latent_size, 512*2*2)\n",
        "\n",
        "        self.dec_conv1 = nn.ConvTranspose2d(in_channels=512, out_channels=256, kernel_size=4, stride=2, padding=1)\n",
        "        self.dec_bn1 = nn.BatchNorm2d(256)\n",
        "        self.dec_conv2 = nn.ConvTranspose2d(in_channels=256, out_channels=128, kernel_size=4, stride=2, padding=1)\n",
        "        self.dec_bn2 = nn.BatchNorm2d(128)\n",
        "        self.dec_conv3 = nn.ConvTranspose2d(in_channels=128, out_channels=64, kernel_size=4, stride=2, padding=1)\n",
        "        self.dec_bn3 = nn.BatchNorm2d(64)\n",
        "        self.dec_conv4 = nn.ConvTranspose2d(in_channels=64, out_channels=32, kernel_size=4, stride=2, padding=1)\n",
        "        self.dec_bn4 = nn.BatchNorm2d(32)\n",
        "        self.dec_conv5 = nn.ConvTranspose2d(in_channels=32, out_channels=3, kernel_size=4, stride=2, padding=1)\n",
        "\n",
        "    def encoder(self, x_in):\n",
        "        h = F.relu(self.enc_bn1(self.enc_conv1(x_in)))\n",
        "        h = F.relu(self.enc_bn2(self.enc_conv2(h)))\n",
        "        h = F.relu(self.enc_bn3(self.enc_conv3(h)))\n",
        "        h = F.relu(self.enc_bn4(self.enc_conv4(h)))\n",
        "        h = F.relu(self.enc_bn5(self.enc_conv5(h)))\n",
        "\n",
        "        h = h.view(h.size(0), -1)  # Flatten the feature map\n",
        "        return self.fc_mu(h), self.fc_log_var(h)\n",
        "\n",
        "    def decoder(self, z):\n",
        "        z = self.fc(z)\n",
        "        z = z.view(-1, 512, 2, 2)\n",
        "\n",
        "        z = F.relu(self.dec_bn1(self.dec_conv1(z)))\n",
        "        z = F.relu(self.dec_bn2(self.dec_conv2(z)))\n",
        "        z = F.relu(self.dec_bn3(self.dec_conv3(z)))\n",
        "        z = F.relu(self.dec_bn4(self.dec_conv4(z)))\n",
        "        z = self.dec_conv5(z)\n",
        "\n",
        "        return z\n",
        "\n",
        "    def sampling(self, mu, log_var):\n",
        "        std = torch.exp(0.5*log_var)\n",
        "        eps = torch.randn_like(std)\n",
        "        return mu + eps * std\n",
        "\n",
        "    def forward(self, x_in):\n",
        "        mu, log_var = self.encoder(x_in)\n",
        "        z = self.sampling(mu, log_var)\n",
        "        return self.decoder(z), mu, log_var\n",
        "\n",
        "# Функция потерь\n",
        "def loss_function(reconstructed, original, mu, log_var):\n",
        "    BCE = F.binary_cross_entropy_with_logits(reconstructed, original, reduction='sum')\n",
        "    KLD = -0.5 * torch.sum(1 + log_var - mu.pow(2) - log_var.exp())\n",
        "    return BCE + KLD\n",
        "\n",
        "# Функция обучения\n",
        "def train(model, dataloader, optimizer, scaler, device):\n",
        "    model.train()\n",
        "    train_loss = 0\n",
        "    for data in dataloader:\n",
        "        data = data[0].to(device)  # Перемещение данных на GPU\n",
        "        optimizer.zero_grad()\n",
        "\n",
        "        with autocast():\n",
        "            reconstructed, mu, log_var = model(data)\n",
        "            loss = loss_function(reconstructed, data, mu, log_var)\n",
        "\n",
        "        scaler.scale(loss).backward()\n",
        "        scaler.step(optimizer)\n",
        "        scaler.update()\n",
        "\n",
        "        train_loss += loss.item()\n",
        "    return train_loss / len(dataloader.dataset)\n",
        "\n",
        "# Настройка устройства, модели и гиперпараметров\n",
        "device = torch.device(\"cuda\" if torch.cuda.is_available() else \"cpu\")\n",
        "latent_dims = 100\n",
        "vae4 = VAE(latent_dims).to(device)\n",
        "optimizer = torch.optim.Adam(vae4.parameters(), lr=1e-3)\n",
        "scaler = GradScaler()\n",
        "n_epoches = 5\n",
        "loss_hist4 = []\n",
        "\n",
        "# Обучение модели\n",
        "for epoch in tqdm.tqdm(range(n_epoches)):\n",
        "    loss_epoch = train(vae4, dataloader, optimizer, scaler, device)\n",
        "    loss_hist4.append(loss_epoch)\n",
        "\n",
        "print(\"Training complete. Loss history:\", loss_hist4)"
      ],
      "metadata": {
        "id": "flavV5IDCyIi",
        "colab": {
          "base_uri": "https://localhost:8080/"
        },
        "outputId": "deeb34b5-c608-4f66-bca8-b1f53adb079f"
      },
      "execution_count": 67,
      "outputs": [
        {
          "output_type": "stream",
          "name": "stderr",
          "text": [
            "100%|██████████| 5/5 [06:54<00:00, 82.94s/it]"
          ]
        },
        {
          "output_type": "stream",
          "name": "stdout",
          "text": [
            "Training complete. Loss history: [6682.74678546875, 6461.47600546875, 6417.4856509375, 6395.2260021875, 6381.7342928125]\n"
          ]
        },
        {
          "output_type": "stream",
          "name": "stderr",
          "text": [
            "\n"
          ]
        }
      ]
    },
    {
      "cell_type": "code",
      "source": [
        "vae4.to(device)"
      ],
      "metadata": {
        "colab": {
          "base_uri": "https://localhost:8080/"
        },
        "id": "ant7IPnnDvdw",
        "outputId": "94012b03-c323-41a0-82ae-149139165323"
      },
      "execution_count": 69,
      "outputs": [
        {
          "output_type": "execute_result",
          "data": {
            "text/plain": [
              "VAE(\n",
              "  (enc_conv1): Conv2d(3, 32, kernel_size=(4, 4), stride=(2, 2), padding=(1, 1))\n",
              "  (enc_bn1): BatchNorm2d(32, eps=1e-05, momentum=0.1, affine=True, track_running_stats=True)\n",
              "  (enc_conv2): Conv2d(32, 64, kernel_size=(4, 4), stride=(2, 2), padding=(1, 1))\n",
              "  (enc_bn2): BatchNorm2d(64, eps=1e-05, momentum=0.1, affine=True, track_running_stats=True)\n",
              "  (enc_conv3): Conv2d(64, 128, kernel_size=(4, 4), stride=(2, 2), padding=(1, 1))\n",
              "  (enc_bn3): BatchNorm2d(128, eps=1e-05, momentum=0.1, affine=True, track_running_stats=True)\n",
              "  (enc_conv4): Conv2d(128, 256, kernel_size=(4, 4), stride=(2, 2), padding=(1, 1))\n",
              "  (enc_bn4): BatchNorm2d(256, eps=1e-05, momentum=0.1, affine=True, track_running_stats=True)\n",
              "  (enc_conv5): Conv2d(256, 512, kernel_size=(4, 4), stride=(2, 2), padding=(1, 1))\n",
              "  (enc_bn5): BatchNorm2d(512, eps=1e-05, momentum=0.1, affine=True, track_running_stats=True)\n",
              "  (fc_mu): Linear(in_features=2048, out_features=100, bias=True)\n",
              "  (fc_log_var): Linear(in_features=2048, out_features=100, bias=True)\n",
              "  (fc): Linear(in_features=100, out_features=2048, bias=True)\n",
              "  (dec_conv1): ConvTranspose2d(512, 256, kernel_size=(4, 4), stride=(2, 2), padding=(1, 1))\n",
              "  (dec_bn1): BatchNorm2d(256, eps=1e-05, momentum=0.1, affine=True, track_running_stats=True)\n",
              "  (dec_conv2): ConvTranspose2d(256, 128, kernel_size=(4, 4), stride=(2, 2), padding=(1, 1))\n",
              "  (dec_bn2): BatchNorm2d(128, eps=1e-05, momentum=0.1, affine=True, track_running_stats=True)\n",
              "  (dec_conv3): ConvTranspose2d(128, 64, kernel_size=(4, 4), stride=(2, 2), padding=(1, 1))\n",
              "  (dec_bn3): BatchNorm2d(64, eps=1e-05, momentum=0.1, affine=True, track_running_stats=True)\n",
              "  (dec_conv4): ConvTranspose2d(64, 32, kernel_size=(4, 4), stride=(2, 2), padding=(1, 1))\n",
              "  (dec_bn4): BatchNorm2d(32, eps=1e-05, momentum=0.1, affine=True, track_running_stats=True)\n",
              "  (dec_conv5): ConvTranspose2d(32, 3, kernel_size=(4, 4), stride=(2, 2), padding=(1, 1))\n",
              ")"
            ]
          },
          "metadata": {},
          "execution_count": 69
        }
      ]
    },
    {
      "cell_type": "code",
      "source": [
        "weights4 = vae4.state_dict()"
      ],
      "metadata": {
        "id": "G0WzRn5HDHy7"
      },
      "execution_count": 70,
      "outputs": []
    },
    {
      "cell_type": "code",
      "source": [
        "file_path = '/content/gdrive/MyDrive/weights4.txt'\n",
        "\n",
        "with open(file_path, 'w') as f:\n",
        "    for key, value in weights4.items():\n",
        "        f.write(f'{key}: {value}\\n')"
      ],
      "metadata": {
        "id": "MsPztQlADKnq"
      },
      "execution_count": 71,
      "outputs": []
    },
    {
      "cell_type": "code",
      "source": [
        "plt.plot(loss_hist4)\n",
        "plt.xlabel(\"Epoch\")\n",
        "plt.ylabel(\"Loss\")\n",
        "plt.show()"
      ],
      "metadata": {
        "colab": {
          "base_uri": "https://localhost:8080/",
          "height": 449
        },
        "id": "PFVW050oDOG1",
        "outputId": "00299d92-3325-4aeb-b306-03b74ec51d99"
      },
      "execution_count": 72,
      "outputs": [
        {
          "output_type": "display_data",
          "data": {
            "text/plain": [
              "<Figure size 640x480 with 1 Axes>"
            ],
            "image/png": "[encoded data removed]"
          },
          "metadata": {}
        }
      ]
    },
    {
      "cell_type": "code",
      "source": [
        "generateImg(vae4,100,\"4_1\")\n",
        "generateImg(vae4,100,\"4_2\")"
      ],
      "metadata": {
        "id": "Ro8FZM9mDQoz"
      },
      "execution_count": 73,
      "outputs": []
    },
    {
      "cell_type": "code",
      "source": [
        "img_4_1 = Image.open('/content/gdrive/MyDrive/sample_4_1.jpg')\n",
        "img_4_1"
      ],
      "metadata": {
        "colab": {
          "base_uri": "https://localhost:8080/",
          "height": 81
        },
        "id": "m6DM1QM2Dc6z",
        "outputId": "6bf36be1-8223-47e0-b8ef-c4af68fd55f8"
      },
      "execution_count": 74,
      "outputs": [
        {
          "output_type": "execute_result",
          "data": {
            "text/plain": [
              "<PIL.JpegImagePlugin.JpegImageFile image mode=RGB size=64x64>"
            ],
            "image/png": "[encoded data removed]"
          },
          "metadata": {},
          "execution_count": 74
        }
      ]
    },
    {
      "cell_type": "code",
      "source": [
        "img_4_2 = Image.open('/content/gdrive/MyDrive/sample_4_2.jpg')\n",
        "img_4_2"
      ],
      "metadata": {
        "colab": {
          "base_uri": "https://localhost:8080/",
          "height": 81
        },
        "id": "_QwdMC6wDe5u",
        "outputId": "89781b74-c39c-4652-9d3a-9f52f2971dee"
      },
      "execution_count": 75,
      "outputs": [
        {
          "output_type": "execute_result",
          "data": {
            "text/plain": [
              "<PIL.JpegImagePlugin.JpegImageFile image mode=RGB size=64x64>"
            ],
            "image/png": "[encoded data removed]"
          },
          "metadata": {},
          "execution_count": 75
        }
      ]
    },
    {
      "cell_type": "markdown",
      "source": [
        "Вот что еще попробовал\n",
        "\n",
        "Изменил архитектуру модели, добавив сверточные и транспонированные сверточные слои для работы с изображениями.<br>\n",
        "Добавил слои батч-нормализации для стабилизации обучения и ускорения сходимости модели.<br>\n",
        "Попробовал разные значения размера латентного пространства, чтобы изучить различные аспекты данных.<br>\n",
        "Заменил функцию потерь на torch.nn.functional.binary_cross_entropy_with_logits для устойчивости обучения модели VAE.<br>\n",
        "Применил автоматическое смешивание для ускорения обучения на GPU.<br>\n",
        "Настроил гиперпараметры, такие как скорость обучения и параметры оптимизатора, для улучшения сходимости модели.<br>\n",
        "Исправил ошибки и предупреждения, такие как вызов функции lr_scheduler.step() перед optimizer.step(), и обработал предупреждения о безопасности автоматического смешивания.<br>\n",
        "Убедился, что декодер также состоит из сверточных слоев, чтобы правильно восстанавливать изображения из латентного представления.<br>\n",
        "\n",
        "loss по итогу не уменьшается ниже 6300"
      ],
      "metadata": {
        "id": "qDXahXaSWZjI"
      }
    },
    {
      "cell_type": "code",
      "source": [],
      "metadata": {
        "id": "N3oX7OYoWiyf"
      },
      "execution_count": null,
      "outputs": []
    }
  ]
}