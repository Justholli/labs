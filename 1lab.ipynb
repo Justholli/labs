{
  "nbformat": 4,
  "nbformat_minor": 0,
  "metadata": {
    "colab": {
      "provenance": [],
      "gpuType": "T4",
      "include_colab_link": true
    },
    "kernelspec": {
      "name": "python3",
      "display_name": "Python 3"
    },
    "language_info": {
      "name": "python"
    },
    "accelerator": "GPU"
  },
  "cells": [
    {
      "cell_type": "markdown",
      "metadata": {
        "id": "view-in-github",
        "colab_type": "text"
      },
      "source": [
        "<a href=\"https://colab.research.google.com/github/Justholli/labs/blob/main/1lab.ipynb\" target=\"_parent\"><img src=\"https://colab.research.google.com/assets/colab-badge.svg\" alt=\"Open In Colab\"/></a>"
      ]
    },
    {
      "cell_type": "markdown",
      "source": [
        "Для русского языка подберите 5 различных спикеров (например, на YouTube). Для скачивания с YT отправлял ссылку выше\n",
        "Возьмите для каждого по 2 фрагмента речи длительностью 10-20 секунд.\n",
        "Проведите распознавание речи для фрагментов с помощью Whisper на модели base и large-v2\n",
        "Также сделайте транскрипцию самостоятельно, прослушав семплы.\n",
        "Посчитайте метрики Word Error Rate и Character Error Rate для этих\n",
        "фрагментов. За эталон возьмите вашу транскрипцию, считайте метрики для Whisper base и large-v2)"
      ],
      "metadata": {
        "id": "hdKFdKmu9wcF"
      }
    },
    {
      "cell_type": "markdown",
      "source": [
        "**Загрузим библиотеки для работы, для подсчитывания WER и CER будем использовать jiwer и Levenshtein**"
      ],
      "metadata": {
        "id": "nZSPBqfF9-bU"
      }
    },
    {
      "cell_type": "code",
      "source": [
        "!pip install pydub\n",
        "!pip install jiwer\n",
        "!pip install python-Levenshtein\n",
        "!pip install transformers\n",
        "!pip install git+https://github.com/openai/whisper.git -q\n"
      ],
      "metadata": {
        "colab": {
          "base_uri": "https://localhost:8080/"
        },
        "id": "Mgnw7IFOux8O",
        "outputId": "e158b810-304d-481e-f110-251bc711f9bc"
      },
      "execution_count": 1,
      "outputs": [
        {
          "output_type": "stream",
          "name": "stdout",
          "text": [
            "Collecting pydub\n",
            "  Downloading pydub-0.25.1-py2.py3-none-any.whl (32 kB)\n",
            "Installing collected packages: pydub\n",
            "Successfully installed pydub-0.25.1\n",
            "Collecting jiwer\n",
            "  Downloading jiwer-3.0.4-py3-none-any.whl (21 kB)\n",
            "Requirement already satisfied: click<9.0.0,>=8.1.3 in /usr/local/lib/python3.10/dist-packages (from jiwer) (8.1.7)\n",
            "Collecting rapidfuzz<4,>=3 (from jiwer)\n",
            "  Downloading rapidfuzz-3.9.1-cp310-cp310-manylinux_2_17_x86_64.manylinux2014_x86_64.whl (3.4 MB)\n",
            "\u001b[2K     \u001b[90m━━━━━━━━━━━━━━━━━━━━━━━━━━━━━━━━━━━━━━━━\u001b[0m \u001b[32m3.4/3.4 MB\u001b[0m \u001b[31m31.0 MB/s\u001b[0m eta \u001b[36m0:00:00\u001b[0m\n",
            "\u001b[?25hInstalling collected packages: rapidfuzz, jiwer\n",
            "Successfully installed jiwer-3.0.4 rapidfuzz-3.9.1\n",
            "Collecting python-Levenshtein\n",
            "  Downloading python_Levenshtein-0.25.1-py3-none-any.whl (9.4 kB)\n",
            "Collecting Levenshtein==0.25.1 (from python-Levenshtein)\n",
            "  Downloading Levenshtein-0.25.1-cp310-cp310-manylinux_2_17_x86_64.manylinux2014_x86_64.whl (177 kB)\n",
            "\u001b[2K     \u001b[90m━━━━━━━━━━━━━━━━━━━━━━━━━━━━━━━━━━━━━━━━\u001b[0m \u001b[32m177.4/177.4 kB\u001b[0m \u001b[31m4.0 MB/s\u001b[0m eta \u001b[36m0:00:00\u001b[0m\n",
            "\u001b[?25hRequirement already satisfied: rapidfuzz<4.0.0,>=3.8.0 in /usr/local/lib/python3.10/dist-packages (from Levenshtein==0.25.1->python-Levenshtein) (3.9.1)\n",
            "Installing collected packages: Levenshtein, python-Levenshtein\n",
            "Successfully installed Levenshtein-0.25.1 python-Levenshtein-0.25.1\n",
            "Requirement already satisfied: transformers in /usr/local/lib/python3.10/dist-packages (4.41.0)\n",
            "Requirement already satisfied: filelock in /usr/local/lib/python3.10/dist-packages (from transformers) (3.14.0)\n",
            "Requirement already satisfied: huggingface-hub<1.0,>=0.23.0 in /usr/local/lib/python3.10/dist-packages (from transformers) (0.23.1)\n",
            "Requirement already satisfied: numpy>=1.17 in /usr/local/lib/python3.10/dist-packages (from transformers) (1.25.2)\n",
            "Requirement already satisfied: packaging>=20.0 in /usr/local/lib/python3.10/dist-packages (from transformers) (24.0)\n",
            "Requirement already satisfied: pyyaml>=5.1 in /usr/local/lib/python3.10/dist-packages (from transformers) (6.0.1)\n",
            "Requirement already satisfied: regex!=2019.12.17 in /usr/local/lib/python3.10/dist-packages (from transformers) (2023.12.25)\n",
            "Requirement already satisfied: requests in /usr/local/lib/python3.10/dist-packages (from transformers) (2.31.0)\n",
            "Requirement already satisfied: tokenizers<0.20,>=0.19 in /usr/local/lib/python3.10/dist-packages (from transformers) (0.19.1)\n",
            "Requirement already satisfied: safetensors>=0.4.1 in /usr/local/lib/python3.10/dist-packages (from transformers) (0.4.3)\n",
            "Requirement already satisfied: tqdm>=4.27 in /usr/local/lib/python3.10/dist-packages (from transformers) (4.66.4)\n",
            "Requirement already satisfied: fsspec>=2023.5.0 in /usr/local/lib/python3.10/dist-packages (from huggingface-hub<1.0,>=0.23.0->transformers) (2023.6.0)\n",
            "Requirement already satisfied: typing-extensions>=3.7.4.3 in /usr/local/lib/python3.10/dist-packages (from huggingface-hub<1.0,>=0.23.0->transformers) (4.11.0)\n",
            "Requirement already satisfied: charset-normalizer<4,>=2 in /usr/local/lib/python3.10/dist-packages (from requests->transformers) (3.3.2)\n",
            "Requirement already satisfied: idna<4,>=2.5 in /usr/local/lib/python3.10/dist-packages (from requests->transformers) (3.7)\n",
            "Requirement already satisfied: urllib3<3,>=1.21.1 in /usr/local/lib/python3.10/dist-packages (from requests->transformers) (2.0.7)\n",
            "Requirement already satisfied: certifi>=2017.4.17 in /usr/local/lib/python3.10/dist-packages (from requests->transformers) (2024.2.2)\n",
            "  Installing build dependencies ... \u001b[?25l\u001b[?25hdone\n",
            "  Getting requirements to build wheel ... \u001b[?25l\u001b[?25hdone\n",
            "  Preparing metadata (pyproject.toml) ... \u001b[?25l\u001b[?25hdone\n",
            "\u001b[2K     \u001b[90m━━━━━━━━━━━━━━━━━━━━━━━━━━━━━━━━━━━━━━━━\u001b[0m \u001b[32m1.1/1.1 MB\u001b[0m \u001b[31m12.7 MB/s\u001b[0m eta \u001b[36m0:00:00\u001b[0m\n",
            "\u001b[2K     \u001b[90m━━━━━━━━━━━━━━━━━━━━━━━━━━━━━━━━━━━━━━━━\u001b[0m \u001b[32m21.3/21.3 MB\u001b[0m \u001b[31m70.9 MB/s\u001b[0m eta \u001b[36m0:00:00\u001b[0m\n",
            "\u001b[?25h  Building wheel for openai-whisper (pyproject.toml) ... \u001b[?25l\u001b[?25hdone\n"
          ]
        }
      ]
    },
    {
      "cell_type": "code",
      "source": [
        "from pathlib import Path\n",
        "from IPython.display import Audio\n",
        "from pydub import AudioSegment\n",
        "import jiwer\n",
        "import Levenshtein\n",
        "import numpy as np\n",
        "from transformers import pipeline\n",
        "from google.colab import drive\n",
        "import whisper\n"
      ],
      "metadata": {
        "id": "ePcyxDrOx3dS"
      },
      "execution_count": 2,
      "outputs": []
    },
    {
      "cell_type": "code",
      "source": [
        "baseModel = whisper.load_model(\"base\")\n",
        "largeV2Model = whisper.load_model(\"large-v2\")\n"
      ],
      "metadata": {
        "colab": {
          "base_uri": "https://localhost:8080/"
        },
        "id": "DAjJ2Ynvm964",
        "outputId": "39bf5228-8af2-4a05-b461-d047fb8c0530"
      },
      "execution_count": 3,
      "outputs": [
        {
          "output_type": "stream",
          "name": "stderr",
          "text": [
            "100%|███████████████████████████████████████| 139M/139M [00:01<00:00, 94.4MiB/s]\n",
            "100%|█████████████████████████████████████| 2.87G/2.87G [00:31<00:00, 98.5MiB/s]\n"
          ]
        }
      ]
    },
    {
      "cell_type": "markdown",
      "source": [
        "**Спикер номер 1**"
      ],
      "metadata": {
        "id": "WZY_Lu1tqpN4"
      }
    },
    {
      "cell_type": "code",
      "source": [
        "audio1_1 = whisper.load_audio(\"/content/sample_data/123.mp4\")\n",
        "trans1_1 = \"Ребята, всем привет! Сегодня я расскажу как установить Android Studio, откуда, какую версию и как настроить первый проект.\"\n",
        "audio1_2 = whisper.load_audio(\"/content/sample_data/234.mp4\")\n",
        "trans1_2 = \"вот каким образом это получилось. Здесь есть вкладочка другие версии вот и мы можем установить их\""
      ],
      "metadata": {
        "id": "vHnJdlBDppTG"
      },
      "execution_count": 13,
      "outputs": []
    },
    {
      "cell_type": "code",
      "source": [
        "audio1_1 = whisper.pad_or_trim(audio1_1)\n",
        "audio1_2 = whisper.pad_or_trim(audio1_2)\n",
        "mel1_1B = whisper.log_mel_spectrogram(audio1_1).to(baseModel.device)\n",
        "mel1_1L = whisper.log_mel_spectrogram(audio1_1).to(largeV2Model.device)\n",
        "mel1_2B = whisper.log_mel_spectrogram(audio1_2).to(baseModel.device)\n",
        "mel1_2L = whisper.log_mel_spectrogram(audio1_2).to(largeV2Model.device)"
      ],
      "metadata": {
        "id": "QJh763YOsFNP"
      },
      "execution_count": 5,
      "outputs": []
    },
    {
      "cell_type": "code",
      "source": [
        "options = whisper.DecodingOptions()\n",
        "result1_1B = whisper.decode(baseModel, mel1_1B, options)\n",
        "result1_1L = whisper.decode(largeV2Model, mel1_1L, options)\n",
        "result1_2B = whisper.decode(baseModel, mel1_2B, options)\n",
        "result1_2L = whisper.decode(largeV2Model, mel1_2L, options)"
      ],
      "metadata": {
        "id": "jWoAdIUnsehv"
      },
      "execution_count": 6,
      "outputs": []
    },
    {
      "cell_type": "code",
      "source": [
        "print(result1_1B.text)\n",
        "print(result1_1L.text)\n",
        "print(result1_2B.text)\n",
        "print(result1_2L.text)"
      ],
      "metadata": {
        "colab": {
          "base_uri": "https://localhost:8080/"
        },
        "id": "GYqPhpQm1pT1",
        "outputId": "4df203f6-3f37-44e4-c590-efd04bb022e6"
      },
      "execution_count": 7,
      "outputs": [
        {
          "output_type": "stream",
          "name": "stdout",
          "text": [
            "Ребята, всем привет! Сегодня расскажу, как установить анорой студию, откуда, какой версию и как настроить первый проект.\n",
            "Ребята, всем привет! Сегодня я расскажу как установить Android Studio, откуда, какую версию и как настроить первый проект.\n",
            "Вот каким образом это получилось. Здесь есть вкладка другие версии. Вот и мы можем установить их.\n",
            "вот каким образом это получилось. здесь есть вкладочка другие версии вот и мы можем установить их\n"
          ]
        }
      ]
    },
    {
      "cell_type": "code",
      "source": [
        "wer1_1B = jiwer.wer(trans1_1, result1_1B.text)\n",
        "print(f\"Word Error Rate for Text 1 with Base: {wer1_1B}\")\n",
        "wer1_1L = jiwer.wer(trans1_1, result1_1L.text)\n",
        "print(f\"Word Error Rate for Text 1 with Large-v2: {wer1_1L}\")\n",
        "wer1_2B = jiwer.wer(trans1_2, result1_2B.text)\n",
        "print(f\"Word Error Rate for Text 2 with Base: {wer1_2B}\")\n",
        "wer1_2L = jiwer.wer(trans1_2, result1_2L.text)\n",
        "print(f\"Word Error Rate for Text 2 with Large-v2: {wer1_2L}\")"
      ],
      "metadata": {
        "colab": {
          "base_uri": "https://localhost:8080/"
        },
        "id": "BD29_MEPtT5u",
        "outputId": "99b175eb-ff57-41c6-973e-735a181eb01c"
      },
      "execution_count": 14,
      "outputs": [
        {
          "output_type": "stream",
          "name": "stdout",
          "text": [
            "Word Error Rate for Text 1 with Base: 0.2777777777777778\n",
            "Word Error Rate for Text 1 with Large-v2: 0.0\n",
            "Word Error Rate for Text 2 with Base: 0.3125\n",
            "Word Error Rate for Text 2 with Large-v2: 0.0625\n"
          ]
        }
      ]
    },
    {
      "cell_type": "code",
      "source": [
        "cer1_1B = Levenshtein.distance(trans1_1, result1_1B.text) / len(trans1_1)\n",
        "print(f\"Character Error Rate for Text 1 with Base: {cer1_1B}\")\n",
        "cer1_1L = Levenshtein.distance(trans1_1, result1_1L.text) / len(trans1_1)\n",
        "print(f\"Character Error Rate for Text 1 with Large-v2: {cer1_1L}\")\n",
        "cer1_2B = Levenshtein.distance(trans1_2, result1_2B.text) / len(trans1_2)\n",
        "print(f\"Character Error Rate for Text 2 with Base: {cer1_2B}\")\n",
        "cer1_2L = Levenshtein.distance(trans1_2, result1_2L.text) / len(trans1_2)\n",
        "print(f\"Character Error Rate for Text 2 with Large-v2: {cer1_2L}\")"
      ],
      "metadata": {
        "colab": {
          "base_uri": "https://localhost:8080/"
        },
        "id": "kco2AfafuJWv",
        "outputId": "4d9894dc-91b3-4f58-9f9b-a24d02fb98e5"
      },
      "execution_count": 15,
      "outputs": [
        {
          "output_type": "stream",
          "name": "stdout",
          "text": [
            "Character Error Rate for Text 1 with Base: 0.14754098360655737\n",
            "Character Error Rate for Text 1 with Large-v2: 0.0\n",
            "Character Error Rate for Text 2 with Base: 0.061855670103092786\n",
            "Character Error Rate for Text 2 with Large-v2: 0.010309278350515464\n"
          ]
        }
      ]
    },
    {
      "cell_type": "markdown",
      "source": [
        "**Спикер номер 2**"
      ],
      "metadata": {
        "id": "Y8ZqK_xm3RWd"
      }
    },
    {
      "cell_type": "code",
      "source": [
        "audio2_1 = whisper.load_audio(\"/content/sample_data/345.mp4\")\n",
        "audio2_2 = whisper.load_audio(\"/content/sample_data/456.mp4\")\n",
        "trans2_1 = \"Я попробовал больше 50 разных ноукод сервисов. И в этом видео я расскажу про лучшие из них. Это сервисы, в которых\"\n",
        "trans2_2 = \"приложение без разработчика, без кода и в кратчайшее время. В каждом из этих сервисов есть свои нюансы, поэтому посмотрите видео полностью, чтобы\"\n",
        "audio2_1 = whisper.pad_or_trim(audio2_1)\n",
        "audio2_2 = whisper.pad_or_trim(audio2_2)\n",
        "mel2_1B = whisper.log_mel_spectrogram(audio2_1).to(baseModel.device)\n",
        "mel2_1L = whisper.log_mel_spectrogram(audio2_1).to(largeV2Model.device)\n",
        "mel2_2B = whisper.log_mel_spectrogram(audio2_2).to(baseModel.device)\n",
        "mel2_2L = whisper.log_mel_spectrogram(audio2_2).to(largeV2Model.device)"
      ],
      "metadata": {
        "id": "CwUVa2-E3X1E"
      },
      "execution_count": 19,
      "outputs": []
    },
    {
      "cell_type": "code",
      "source": [
        "result2_1B = whisper.decode(baseModel, mel2_1B, options)\n",
        "result2_1L = whisper.decode(largeV2Model, mel2_1L, options)\n",
        "result2_2B = whisper.decode(baseModel, mel2_2B, options)\n",
        "result2_2L = whisper.decode(largeV2Model, mel2_2L, options)\n",
        "print(result2_1B.text)\n",
        "print(result2_1L.text)\n",
        "print(result2_2B.text)\n",
        "print(result2_2L.text)"
      ],
      "metadata": {
        "colab": {
          "base_uri": "https://localhost:8080/"
        },
        "id": "LTjmyV5J34uc",
        "outputId": "c222d848-3be5-4b67-c768-72778a8470c2"
      },
      "execution_count": 18,
      "outputs": [
        {
          "output_type": "stream",
          "name": "stdout",
          "text": [
            "Я попробовал больше 50 разных ноукод сервисов. И в этом видео я расскажу про лучшие из них. Это сервисы, в которых\n",
            "Я попробовал больше 50 разных наукодсервисов и в этом видео я расскажу про лучшие из них.\n",
            "приложение без разработчиков, без кодов и в кратчешие время. В каждом из этих сервисов есть свои нюансы, поэтому посмотрите видео полностью, чтобы\n",
            "приложение без разработчика, без кода и в кратчайшее время. В каждом из этих сервисов есть свои нюансы, поэтому посмотрите видео полностью, чтобы\n"
          ]
        }
      ]
    },
    {
      "cell_type": "code",
      "source": [
        "wer2_1B = jiwer.wer(trans2_1, result2_1B.text)\n",
        "print(f\"Word Error Rate for Text 1 with Base: {wer2_1B}\")\n",
        "wer2_1L = jiwer.wer(trans2_1, result2_1L.text)\n",
        "print(f\"Word Error Rate for Text 1 with Large-v2: {wer2_1L}\")\n",
        "wer2_2B = jiwer.wer(trans2_2, result2_2B.text)\n",
        "print(f\"Word Error Rate for Text 2 with Base: {wer2_2B}\")\n",
        "wer2_2L = jiwer.wer(trans2_2, result2_2L.text)\n",
        "print(f\"Word Error Rate for Text 2 with Large-v2: {wer2_2L}\")\n",
        "cer2_1B = Levenshtein.distance(trans2_1, result2_1B.text) / len(trans2_1)\n",
        "print(f\"Character Error Rate for Text 1 with Base: {cer2_1B}\")\n",
        "cer2_1L = Levenshtein.distance(trans2_1, result2_1L.text) / len(trans2_1)\n",
        "print(f\"Character Error Rate for Text 1 with Large-v2: {cer2_1L}\")\n",
        "cer2_2B = Levenshtein.distance(trans2_2, result2_2B.text) / len(trans2_2)\n",
        "print(f\"Character Error Rate for Text 2 with Base: {cer2_2B}\")\n",
        "cer2_2L = Levenshtein.distance(trans2_2, result2_2L.text) / len(trans2_2)\n",
        "print(f\"Character Error Rate for Text 2 with Large-v2: {cer2_2L}\")"
      ],
      "metadata": {
        "colab": {
          "base_uri": "https://localhost:8080/"
        },
        "id": "tbDVKoXz4hFD",
        "outputId": "aa550e5f-0ebc-44a7-941b-adc1608eb1b6"
      },
      "execution_count": 20,
      "outputs": [
        {
          "output_type": "stream",
          "name": "stdout",
          "text": [
            "Word Error Rate for Text 1 with Base: 0.0\n",
            "Word Error Rate for Text 1 with Large-v2: 0.3333333333333333\n",
            "Word Error Rate for Text 2 with Base: 0.13636363636363635\n",
            "Word Error Rate for Text 2 with Large-v2: 0.0\n",
            "Character Error Rate for Text 1 with Base: 0.0\n",
            "Character Error Rate for Text 1 with Large-v2: 0.23684210526315788\n",
            "Character Error Rate for Text 2 with Base: 0.04827586206896552\n",
            "Character Error Rate for Text 2 with Large-v2: 0.0\n"
          ]
        }
      ]
    },
    {
      "cell_type": "markdown",
      "source": [
        "**Спикер номер 3**"
      ],
      "metadata": {
        "id": "RoX6n9Ji5HIM"
      }
    },
    {
      "cell_type": "code",
      "source": [
        "audio3_1 = whisper.load_audio(\"/content/sample_data/567.mp4\")\n",
        "audio3_2 = whisper.load_audio(\"/content/sample_data/678.mp4\")\n",
        "trans3_1 = \"Камары, муха в глаз попала. Здрасте! С вами Даня Краестера, это канал «Дикий Краестер». Мы сегодня будем учиться на\"\n",
        "trans3_2 = \"Та-та-та-та-та-та, это «Дикий Крастер» та-та-та ву-ху та-та-та-та-та. Прежде чем мы начнём, напоминаю, что есть телеграм-канал Злой Крастер и страница на\"\n",
        "audio3_1 = whisper.pad_or_trim(audio3_1)\n",
        "audio3_2 = whisper.pad_or_trim(audio3_2)\n",
        "mel3_1B = whisper.log_mel_spectrogram(audio3_1).to(baseModel.device)\n",
        "mel3_1L = whisper.log_mel_spectrogram(audio3_1).to(largeV2Model.device)\n",
        "mel3_2B = whisper.log_mel_spectrogram(audio3_2).to(baseModel.device)\n",
        "mel3_2L = whisper.log_mel_spectrogram(audio3_2).to(largeV2Model.device)\n",
        "\n",
        "result3_1B = whisper.decode(baseModel, mel3_1B, options)\n",
        "result3_1L = whisper.decode(largeV2Model, mel3_1L, options)\n",
        "result3_2B = whisper.decode(baseModel, mel3_2B, options)\n",
        "result3_2L = whisper.decode(largeV2Model, mel3_2L, options)\n",
        "print(result3_1B.text)\n",
        "print(result3_1L.text)\n",
        "print(result3_2B.text)\n",
        "print(result3_2L.text)\n",
        "\n",
        "wer3_1B = jiwer.wer(trans3_1, result3_1B.text)\n",
        "print(f\"Word Error Rate for Text 1 with Base: {wer3_1B}\")\n",
        "wer3_1L = jiwer.wer(trans3_1, result3_1L.text)\n",
        "print(f\"Word Error Rate for Text 1 with Large-v2: {wer3_1L}\")\n",
        "wer3_2B = jiwer.wer(trans3_2, result3_2B.text)\n",
        "print(f\"Word Error Rate for Text 2 with Base: {wer3_2B}\")\n",
        "wer3_2L = jiwer.wer(trans3_2, result3_2L.text)\n",
        "print(f\"Word Error Rate for Text 2 with Large-v2: {wer3_2L}\")\n",
        "cer3_1B = Levenshtein.distance(trans3_1, result3_1B.text) / len(trans3_1)\n",
        "print(f\"Character Error Rate for Text 1 with Base: {cer3_1B}\")\n",
        "cer3_1L = Levenshtein.distance(trans3_1, result3_1L.text) / len(trans3_1)\n",
        "print(f\"Character Error Rate for Text 1 with Large-v2: {cer3_1L}\")\n",
        "cer3_2B = Levenshtein.distance(trans3_2, result3_2B.text) / len(trans3_2)\n",
        "print(f\"Character Error Rate for Text 2 with Base: {cer3_2B}\")\n",
        "cer3_2L = Levenshtein.distance(trans3_2, result3_2L.text) / len(trans3_2)\n",
        "print(f\"Character Error Rate for Text 2 with Large-v2: {cer3_2L}\")"
      ],
      "metadata": {
        "colab": {
          "base_uri": "https://localhost:8080/"
        },
        "id": "XnQn_kAL5Mjj",
        "outputId": "853a901a-bf81-427a-f2a3-3b65068286ab"
      },
      "execution_count": 23,
      "outputs": [
        {
          "output_type": "stream",
          "name": "stdout",
          "text": [
            "Камары, ухо в глаз попал. Здрасте! С вами Даня Краестера, это канал «Дикий Краестер». Мы сегодня будем учиться на\n",
            "Комары, ухо в глаз попало. Здрасте, с вами Даня Крастер, это канал Дикий Крастер. Мы сегодня будем учиться на...\n",
            "Те-кететететететететететететететететететететететететететететететететететететететететететететететететететететететететететететететететететететететететететететететететететететететететететететететететететететететететететететететететететететететететететететететететететететететететететететететететететететететететететететететететететететететететететететететететететететететететететететететететететететететететететететететететететететететететететет\n",
            "Прежде чем мы начнём, напоминаю, что есть телеграм-канал Злой Крастер и страница на\n",
            "Word Error Rate for Text 1 with Base: 0.10526315789473684\n",
            "Word Error Rate for Text 1 with Large-v2: 0.47368421052631576\n",
            "Word Error Rate for Text 2 with Base: 1.0\n",
            "Word Error Rate for Text 2 with Large-v2: 0.35\n",
            "Character Error Rate for Text 1 with Base: 0.02608695652173913\n",
            "Character Error Rate for Text 1 with Large-v2: 0.12173913043478261\n",
            "Character Error Rate for Text 2 with Base: 2.69281045751634\n",
            "Character Error Rate for Text 2 with Large-v2: 0.45751633986928103\n"
          ]
        }
      ]
    },
    {
      "cell_type": "markdown",
      "source": [
        "Тут немного в музыкальном стиле, поэтому моделькам тяжело)"
      ],
      "metadata": {
        "id": "OAEem82c6UFd"
      }
    },
    {
      "cell_type": "markdown",
      "source": [
        "Как видно по итогам, в большинстве случаев распознавание от модели large-v2 получалось точнее. Это неудивительно, тк она тяжеловеснее чем base, тк обучалась на большем объеме данных. Но соответственно base легковеснее и удобнее для небольших задач."
      ],
      "metadata": {
        "id": "SE2VSBS--ww7"
      }
    }
  ]
}